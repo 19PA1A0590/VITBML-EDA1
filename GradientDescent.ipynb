{
  "nbformat": 4,
  "nbformat_minor": 0,
  "metadata": {
    "colab": {
      "name": "GradientDescent.ipynb",
      "provenance": [],
      "include_colab_link": true
    },
    "kernelspec": {
      "name": "python3",
      "display_name": "Python 3"
    }
  },
  "cells": [
    {
      "cell_type": "markdown",
      "metadata": {
        "id": "view-in-github",
        "colab_type": "text"
      },
      "source": [
        "<a href=\"https://colab.research.google.com/github/19PA1A0590/VITBML-EDA1/blob/master/GradientDescent.ipynb\" target=\"_parent\"><img src=\"https://colab.research.google.com/assets/colab-badge.svg\" alt=\"Open In Colab\"/></a>"
      ]
    },
    {
      "cell_type": "code",
      "metadata": {
        "id": "anBGJDUrXa0K",
        "colab_type": "code",
        "colab": {}
      },
      "source": [
        "# call the heavenly Gods!\n",
        "import numpy as np\n",
        "import matplotlib.pyplot as plt"
      ],
      "execution_count": 0,
      "outputs": []
    },
    {
      "cell_type": "code",
      "metadata": {
        "id": "QvWN6WDiYw1B",
        "colab_type": "code",
        "colab": {}
      },
      "source": [
        "# Sample data\n",
        "data0 = [(1, 1), (2, 2), (3, 4), (4, 3), (5, 5.5), (6, 8), (7, 6), (8, 8.4), (9, 10), (5, 4)]\n",
        "data1=[(12.39999962,11.19999981),(14.30000019,12.5),(14.5,12.69999981),(14.89999962,13.10000038),(16.10000038,14.10000038),(16.89999962,14.80000019),(16.5,14.39999962),(15.39999962,13.39999962),(17,14.89999962),(17.89999962,15.60000038),(18.79999924,16.39999962),(20.29999924,17.70000076),(22.39999962,19.60000038),(19.39999962,16.89999962),(15.5,14),(16.70000076,14.60000038),(17.29999924,15.10000038),(18.39999962,16.10000038),(19.20000076,16.79999924),(17.39999962,15.19999981),(19.5,17),(19.70000076,17.20000076),(21.20000076,18.60000038)]\n",
        "data2=[(20,88.59999847),(16,71.59999847),(19.79999924,93.30000305),(18.39999962,84.30000305),(17.10000038,80.59999847),(15.5,75.19999695),(14.69999981,69.69999695),(17.10000038,82),(15.39999962,69.40000153),(16.20000076,83.30000305),(15,79.59999847),(17.20000076,82.59999847),(16,80.59999847),(17,83.5),(14.39999962,76.30000305)]\n",
        "data3=[(0.170000002,0.629999995),(0.189999998,0.699999988),(0.219999999,0.819999993),(0.234999999,0.879999995),(0.234999999,1.149999976),(0.300000012,1.5),(0.349999994,4.400000095),(0.419999987,7.300000191),(0.850000024,11.30000019)]\n",
        "data4=[(2.900000095,4),(6.699999809,7.400000095),(4.900000095,5),(7.900000095,7.199999809),(9.800000191,7.900000095),(6.900000095,6.099999905),(6.099999905,6),(6.199999809,5.800000191),(6,5.199999809),(5.099999905,4.199999809),(4.699999809,4),(4.400000095,4.400000095),(5.800000191,5.199999809)]\n",
        "data5=[(6.2,29),(9.5,44),(10.5,36),(7.7,37),(8.6,53),(34.1,68),(11,75),(6.9,18),(7.3,31),(15.1,25),(29.1,34),(2.2,14),(5.7,11),(2,11),(2.5,22),(4,16),(5.4,27),(2.2,9),(7.2,29),(15.1,30),(16.5,40),(18.4,32),(36.2,41),(39.7,147),(18.5,22),(23.3,29),(12.2,46),(5.6,23),(21.8,4),(21.6,31),(9,39),(3.6,15),(5,32),(28.6,27),(17.4,32),(11.3,34),(3.4,17),(11.9,46),(10.5,42),(10.7,43),(10.8,34),(4.8,19)]"
      ],
      "execution_count": 0,
      "outputs": []
    },
    {
      "cell_type": "code",
      "metadata": {
        "colab_type": "code",
        "id": "Y548MQ8HhUdN",
        "colab": {}
      },
      "source": [
        "# helper function to ass X0 = 1 for all X values in training data\n",
        "# see how I have done it. You may or may not use it.\n",
        "def add_bias(X):\n",
        "  return np.insert(X, 0, 1,  axis=1)"
      ],
      "execution_count": 0,
      "outputs": []
    },
    {
      "cell_type": "code",
      "metadata": {
        "id": "LY46u4WRZNEl",
        "colab_type": "code",
        "colab": {}
      },
      "source": [
        "data = data0\n",
        "# prepare training data. X is a feature vector [X0,X1].\n",
        "# Here X1 is our actual value and X0 is the bias term which is always 1. \n",
        "# This is used so that our vector multiplication logic works with Theta0\n",
        "X = np.array(list(map(lambda x: [1, x[0]], data)))\n",
        "y = np.array(list(map(lambda x: x[1], data)))"
      ],
      "execution_count": 0,
      "outputs": []
    },
    {
      "cell_type": "code",
      "metadata": {
        "id": "i9nkLYQXY5fG",
        "colab_type": "code",
        "colab": {}
      },
      "source": [
        "def plot_line(Theta, X, y):\n",
        "  x = np.arange(np.min(X), np.max(X)) # some sample x values to predict\n",
        "  y_pred = Theta[0] + Theta[1]*x # get predicted values\n",
        "  # y_pred = add_bias(x.reshape(x.shape[0], 1)).dot(Theta.T) # try to understand this\n",
        "  plt.scatter(X[:,1], y) # plot the points, we dont want bias here\n",
        "  plt.plot(x, y_pred) # plot the predicted line"
      ],
      "execution_count": 0,
      "outputs": []
    },
    {
      "cell_type": "code",
      "metadata": {
        "id": "PY4hnXjlaIUN",
        "colab_type": "code",
        "outputId": "cafbd2c0-7d10-438b-ad7c-fa46dde0e920",
        "colab": {
          "base_uri": "https://localhost:8080/",
          "height": 265
        }
      },
      "source": [
        "plot_line(np.array([1,0.5]), X, y) # let us plot with a sample 45 degree line"
      ],
      "execution_count": 0,
      "outputs": [
        {
          "output_type": "display_data",
          "data": {
            "image/png": "[encoded data removed]",
            "text/plain": [
              "<Figure size 432x288 with 1 Axes>"
            ]
          },
          "metadata": {
            "tags": []
          }
        }
      ]
    },
    {
      "cell_type": "code",
      "metadata": {
        "id": "EdjlbNwqZoNE",
        "colab_type": "code",
        "colab": {}
      },
      "source": [
        "# function to calculate J(Theta) or cost\n",
        "def cost(X, y, Theta):\n",
        "  m = X.shape[0] # number of training examples\n",
        "  return np.sum(np.square(X.dot(Theta.T)-y)/m)/2"
      ],
      "execution_count": 0,
      "outputs": []
    },
    {
      "cell_type": "code",
      "metadata": {
        "id": "0WzJXdnvgiug",
        "colab_type": "code",
        "outputId": "ff6ecf08-48e1-4ff9-9f84-1589e7db4206",
        "colab": {
          "base_uri": "https://localhost:8080/",
          "height": 34
        }
      },
      "source": [
        "# let us do some tests\n",
        "Theta = np.array([0, 1])\n",
        "cost(X, y, Theta)"
      ],
      "execution_count": 0,
      "outputs": [
        {
          "output_type": "execute_result",
          "data": {
            "text/plain": [
              "0.47050000000000003"
            ]
          },
          "metadata": {
            "tags": []
          },
          "execution_count": 8
        }
      ]
    },
    {
      "cell_type": "code",
      "metadata": {
        "id": "rnnmsd3YglPE",
        "colab_type": "code",
        "colab": {}
      },
      "source": [
        "# function to calculate the gradient.\n",
        "# The magic here is that we are using numpy vector processors to do it really fast\n",
        "# rather than calculating Theta0 and Theta1 separately we are doing it in one shot.\n",
        "def gradient(X, y, Theta, j):\n",
        "  m = X.shape[0] # number of training examples\n",
        "  # try to carefully understand the below line\n",
        "  # (X.dot(Theta.T)-y) = predicted - actual\n",
        "  # *X[:,j] is the derivative part for Theta_j. Remember we added X0 = 1.\n",
        "  # This helps for Theta_0 without considering it as special case\n",
        "  a = (X.dot(Theta.T)-y)*X[:,j]\n",
        "  return np.sum(a)/m"
      ],
      "execution_count": 0,
      "outputs": []
    },
    {
      "cell_type": "code",
      "metadata": {
        "id": "fvNAK2Fhg0u0",
        "colab_type": "code",
        "outputId": "c8088eb8-2dae-46b3-ba1e-bad549e59050",
        "colab": {
          "base_uri": "https://localhost:8080/",
          "height": 34
        }
      },
      "source": [
        "gradient(X, y, Theta, 0)"
      ],
      "execution_count": 0,
      "outputs": [
        {
          "output_type": "execute_result",
          "data": {
            "text/plain": [
              "-0.19000000000000003"
            ]
          },
          "metadata": {
            "tags": []
          },
          "execution_count": 10
        }
      ]
    },
    {
      "cell_type": "code",
      "metadata": {
        "id": "pWEdd6vVhgLO",
        "colab_type": "code",
        "outputId": "32d1d5c2-e3d3-4123-e718-48209b9846fb",
        "colab": {
          "base_uri": "https://localhost:8080/",
          "height": 34
        }
      },
      "source": [
        "gradient(X, y, Theta, 1)"
      ],
      "execution_count": 0,
      "outputs": [
        {
          "output_type": "execute_result",
          "data": {
            "text/plain": [
              "-1.3700000000000003"
            ]
          },
          "metadata": {
            "tags": []
          },
          "execution_count": 11
        }
      ]
    },
    {
      "cell_type": "code",
      "metadata": {
        "id": "oQktUwcdjiqP",
        "colab_type": "code",
        "colab": {}
      },
      "source": [
        "def gradient_descent(X, y, alpha=0.01, tolerance=0.00001, max_iters=100, verbose=False):\n",
        "  Theta = np.random.random(X.shape[1])\n",
        "  theta_history = []\n",
        "  cost_history = []\n",
        "  j = cost(X, y, Theta)\n",
        "  n = 0\n",
        "  while n<max_iters:\n",
        "    # store history\n",
        "    cost_history.append(j)\n",
        "    theta_history.append(Theta.tolist())\n",
        "\n",
        "    # caluclate gradients. Try to understand below code carefully!\n",
        "    gradients = np.array([gradient(X, y, Theta, d) for d in range(Theta.shape[0])])\n",
        "\n",
        "    # apply gradients to calculate new values of theta using numpy\n",
        "    Theta -= alpha*gradients\n",
        "\n",
        "    # find the new cost base don the new thetas\n",
        "    j = cost(X, y, Theta)\n",
        "\n",
        "    # see if the difference between new and old cost is negligible\n",
        "    # if yes break\n",
        "    if abs(j-cost_history[-1])<tolerance:\n",
        "      break\n",
        "    \n",
        "    #increment interation count\n",
        "    n+=1\n",
        "\n",
        "    # print stats till now\n",
        "    if verbose:\n",
        "      print(f\"iteration {n}, cost = {j}, Theta = {Theta}, Gradients = {gradients}\")\n",
        "  else:\n",
        "    # if we did not reach tolerance and we are ending let us know.\n",
        "    print(f\"stopped after {n} iterations\")\n",
        "\n",
        "  return Theta, np.array(theta_history), np.array(cost_history)"
      ],
      "execution_count": 0,
      "outputs": []
    },
    {
      "cell_type": "code",
      "metadata": {
        "id": "K7k2AJHOj5KM",
        "colab_type": "code",
        "colab": {}
      },
      "source": [
        "Theta, theta_history, cost_history = gradient_descent(X, y, alpha=0.05, max_iters=10000)"
      ],
      "execution_count": 0,
      "outputs": []
    },
    {
      "cell_type": "code",
      "metadata": {
        "id": "oMmRNX2Fbqtl",
        "colab_type": "code",
        "outputId": "ba7f2bac-47ae-435c-ae77-1678a32531c5",
        "colab": {
          "base_uri": "https://localhost:8080/",
          "height": 282
        }
      },
      "source": [
        "plot_line(Theta, X, y)\n",
        "print(cost(X, y, Theta))"
      ],
      "execution_count": 0,
      "outputs": [
        {
          "output_type": "stream",
          "text": [
            "0.4382642902981311\n"
          ],
          "name": "stdout"
        },
        {
          "output_type": "display_data",
          "data": {
            "image/png": "[encoded data removed]",
            "text/plain": [
              "<Figure size 432x288 with 1 Axes>"
            ]
          },
          "metadata": {
            "tags": []
          }
        }
      ]
    },
    {
      "cell_type": "code",
      "metadata": {
        "id": "cElW-EKTl0U3",
        "colab_type": "code",
        "outputId": "c31d74a3-1e09-4d01-8dc8-8ed9110b44cb",
        "colab": {
          "base_uri": "https://localhost:8080/",
          "height": 285
        }
      },
      "source": [
        "plt.plot(theta_history[:,0], cost_history)"
      ],
      "execution_count": 0,
      "outputs": [
        {
          "output_type": "execute_result",
          "data": {
            "text/plain": [
              "[<matplotlib.lines.Line2D at 0x7f422a4a73c8>]"
            ]
          },
          "metadata": {
            "tags": []
          },
          "execution_count": 31
        },
        {
          "output_type": "display_data",
          "data": {
            "image/png": "[encoded data removed]",
            "text/plain": [
              "<Figure size 432x288 with 1 Axes>"
            ]
          },
          "metadata": {
            "tags": []
          }
        }
      ]
    },
    {
      "cell_type": "code",
      "metadata": {
        "id": "dbMt_Q00hAL7",
        "colab_type": "code",
        "outputId": "77ece249-16d6-431d-9ee9-653a50043a7e",
        "colab": {
          "base_uri": "https://localhost:8080/",
          "height": 285
        }
      },
      "source": [
        "plt.plot(theta_history[:,1], cost_history)"
      ],
      "execution_count": 0,
      "outputs": [
        {
          "output_type": "execute_result",
          "data": {
            "text/plain": [
              "[<matplotlib.lines.Line2D at 0x7f422a480be0>]"
            ]
          },
          "metadata": {
            "tags": []
          },
          "execution_count": 32
        },
        {
          "output_type": "display_data",
          "data": {
            "image/png": "[encoded data removed]",
            "text/plain": [
              "<Figure size 432x288 with 1 Axes>"
            ]
          },
          "metadata": {
            "tags": []
          }
        }
      ]
    },
    {
      "cell_type": "markdown",
      "metadata": {
        "id": "OqSAkrKszlv_",
        "colab_type": "text"
      },
      "source": [
        "## Exercise 1\n",
        "Can you divide the data into two parts. Pick 80% randomly as train and 20% remaining as test. Then fit the model only using train data and do predictions based on test data. Report your cost or average error in your test and note your observations clearly.\n",
        "\n",
        "**HINT**: Python random package has random.shuffle that takes an array and shuffles it. Suppose you have n observations from 0 to n-1\n",
        "1. create an array of 0 to n-1 : a = list(range(n))\n",
        "2. shuffle it using random.shuffle(a)\n",
        "3. let k = int(.8*n)\n",
        "4. train = a[:k]\n",
        "5. test = a[k:]\n"
      ]
    },
    {
      "cell_type": "markdown",
      "metadata": {
        "id": "Y8WKskal2nqp",
        "colab_type": "text"
      },
      "source": [
        "## Exercise 2\n",
        "\n",
        "Check out the [datasets here](https://drive.google.com/drive/folders/1yqfrpSZzyOgNj2Igp3Q22tYcI3KHglmV).\n",
        "\n",
        "Some are univariate i.e. single feature and single label and others are multivariate (multiple observations are made). Some of the datsets from univariate are already imported as data1 to data 5 for you at the top of this colab notebook. Please experiment with them and see if you can make a line fit for each. Please record your observations.\n",
        "\n"
      ]
    },
    {
      "cell_type": "markdown",
      "metadata": {
        "id": "s8-hsPHa3Qu5",
        "colab_type": "text"
      },
      "source": [
        "## Exercise 3\n",
        "In the mutivariate data sets, pick any **two datasets** of your choice and formulate a ML problem. Particularly identify what you plan to be your features and wht you plan to be your labels. For now assume only a linear hypothesis and based on your work in Exercise 1, train your model and report your observations and test error.\n",
        "\n",
        "**NOTE:** It will be not possible to plot a line here because you will have multiple dimensions. In 3D you fit a plane and not a line. See if some of you can come up with a 3D plot if you have 2 features and one label. Beyond that you cant visualize.\n",
        "\n",
        "**HINT** use pandas to import the csv files and extract the series and make your numpy vectors.\n",
        "\n",
        "\n",
        "\n",
        "\n",
        "\n",
        "\n",
        "\n",
        "\n",
        "\n",
        "\n",
        "\n",
        "\n",
        "\n",
        "\n",
        "\n",
        "\n",
        "\n",
        "\n",
        "\n",
        "\n",
        "\n",
        "\n",
        "\n",
        "\n",
        "\n",
        "\n",
        "\n",
        "\n",
        "\n",
        "\n",
        "\n",
        "\n",
        "\n",
        "\n",
        "\n",
        "\n",
        "\n",
        "\n",
        "\n",
        "\n",
        "\n",
        "\n",
        "\n",
        "\n",
        "\n",
        "\n",
        "\n",
        "\n",
        "\n",
        "\n",
        "\n",
        "\n",
        "\n",
        "\n"
      ]
    },
    {
      "cell_type": "markdown",
      "metadata": {
        "id": "w1h3nuOy8GA4",
        "colab_type": "text"
      },
      "source": [
        "# Example multivariate analysis\n",
        "\n",
        "To help you out I am giving an example for exercise 3."
      ]
    },
    {
      "cell_type": "code",
      "metadata": {
        "id": "wnB8MPTz5NRT",
        "colab_type": "code",
        "colab": {}
      },
      "source": [
        "import pandas as pd\n",
        "\n",
        "df = pd.read_csv(\"Crime.csv\")\n"
      ],
      "execution_count": 0,
      "outputs": []
    },
    {
      "cell_type": "code",
      "metadata": {
        "id": "L8oR0pDV5Syj",
        "colab_type": "code",
        "outputId": "5eb34ca4-b286-4574-b6ea-fe0374498160",
        "colab": {
          "base_uri": "https://localhost:8080/",
          "height": 195
        }
      },
      "source": [
        "df.head()"
      ],
      "execution_count": 0,
      "outputs": [
        {
          "output_type": "execute_result",
          "data": {
            "text/html": [
              "<div>\n",
              "<style scoped>\n",
              "    .dataframe tbody tr th:only-of-type {\n",
              "        vertical-align: middle;\n",
              "    }\n",
              "\n",
              "    .dataframe tbody tr th {\n",
              "        vertical-align: top;\n",
              "    }\n",
              "\n",
              "    .dataframe thead th {\n",
              "        text-align: right;\n",
              "    }\n",
              "</style>\n",
              "<table border=\"1\" class=\"dataframe\">\n",
              "  <thead>\n",
              "    <tr style=\"text-align: right;\">\n",
              "      <th></th>\n",
              "      <th>X1</th>\n",
              "      <th>X2</th>\n",
              "      <th>X3</th>\n",
              "      <th>X4</th>\n",
              "      <th>X5</th>\n",
              "      <th>X6</th>\n",
              "      <th>X7</th>\n",
              "    </tr>\n",
              "  </thead>\n",
              "  <tbody>\n",
              "    <tr>\n",
              "      <th>0</th>\n",
              "      <td>478</td>\n",
              "      <td>184</td>\n",
              "      <td>40</td>\n",
              "      <td>74</td>\n",
              "      <td>11</td>\n",
              "      <td>31</td>\n",
              "      <td>20</td>\n",
              "    </tr>\n",
              "    <tr>\n",
              "      <th>1</th>\n",
              "      <td>494</td>\n",
              "      <td>213</td>\n",
              "      <td>32</td>\n",
              "      <td>72</td>\n",
              "      <td>11</td>\n",
              "      <td>43</td>\n",
              "      <td>18</td>\n",
              "    </tr>\n",
              "    <tr>\n",
              "      <th>2</th>\n",
              "      <td>643</td>\n",
              "      <td>347</td>\n",
              "      <td>57</td>\n",
              "      <td>70</td>\n",
              "      <td>18</td>\n",
              "      <td>16</td>\n",
              "      <td>16</td>\n",
              "    </tr>\n",
              "    <tr>\n",
              "      <th>3</th>\n",
              "      <td>341</td>\n",
              "      <td>565</td>\n",
              "      <td>31</td>\n",
              "      <td>71</td>\n",
              "      <td>11</td>\n",
              "      <td>25</td>\n",
              "      <td>19</td>\n",
              "    </tr>\n",
              "    <tr>\n",
              "      <th>4</th>\n",
              "      <td>773</td>\n",
              "      <td>327</td>\n",
              "      <td>67</td>\n",
              "      <td>72</td>\n",
              "      <td>9</td>\n",
              "      <td>29</td>\n",
              "      <td>24</td>\n",
              "    </tr>\n",
              "  </tbody>\n",
              "</table>\n",
              "</div>"
            ],
            "text/plain": [
              "    X1   X2  X3  X4  X5  X6  X7\n",
              "0  478  184  40  74  11  31  20\n",
              "1  494  213  32  72  11  43  18\n",
              "2  643  347  57  70  18  16  16\n",
              "3  341  565  31  71  11  25  19\n",
              "4  773  327  67  72   9  29  24"
            ]
          },
          "metadata": {
            "tags": []
          },
          "execution_count": 38
        }
      ]
    },
    {
      "cell_type": "markdown",
      "metadata": {
        "id": "DVSqEmqz6Ibv",
        "colab_type": "text"
      },
      "source": [
        "The description of data says:\n",
        "* The data (X1, X2, X3, X4, X5, X6, X7) are for each city.\n",
        "* X1 = total overall reported crime rate per 1 million residents\n",
        "* X2 = reported violent crime rate per 100,000 residents\n",
        "* X3 = annual police funding in $/resident\n",
        "* X4 = % of people 25 years+ with 4 yrs. of high school\n",
        "* X5 = % of 16 to 19 year-olds not in highschool and not highschool graduates.\n",
        "* X6 = % of 18 to 24 year-olds in college\n",
        "* X7 = % of people 25 years+ with at least 4 years of college\n",
        "\n",
        "Reference: Life In America's Small Cities, By G.S. Thomas\n",
        "\n",
        "Let us make the columns meaningful.\n",
        "\n",
        "\n",
        "\n",
        "\n",
        "\n",
        "\n",
        "\n",
        "\n",
        "\n",
        "\n",
        "\n",
        "\n",
        "\n",
        "\n",
        "\n",
        "\n",
        "\n",
        "\n",
        "\n",
        "\n",
        "\n",
        "\n",
        "\n",
        "\n",
        "\n",
        "\n",
        "\n",
        "\n",
        "\n",
        "\n",
        "\n",
        "\n",
        "\n",
        "\n",
        "\n",
        "\n",
        "\n",
        "\n",
        "\n",
        "\n",
        "\n",
        "\n",
        "\n",
        "\n",
        "\n",
        "\n",
        "\n",
        "\n",
        "\n",
        "\n",
        "\n",
        "\n",
        "\n",
        "\n",
        "\n",
        "\n",
        "\n",
        "\n",
        "\n",
        "\n",
        "\n",
        "\n",
        "\n",
        "\n",
        "\n",
        "\n",
        "\n",
        "\n",
        "\n",
        "\n",
        "\n",
        "\n",
        "\n",
        "\n",
        "\n",
        "\n",
        "\n",
        "\n",
        "\n",
        "\n",
        "\n",
        "\n",
        "\n"
      ]
    },
    {
      "cell_type": "code",
      "metadata": {
        "id": "h_K6dTKY6Ya8",
        "colab_type": "code",
        "colab": {}
      },
      "source": [
        "df.columns = ['total_crime', 'violent_crime', 'police_funding', '25plus_highschool', '16to19_nonhighschool', '18to24_college', '25plus_college']"
      ],
      "execution_count": 0,
      "outputs": []
    },
    {
      "cell_type": "code",
      "metadata": {
        "id": "kINBPH0w7kNq",
        "colab_type": "code",
        "outputId": "27d3661e-2424-4cb7-a90b-d22e98b8e020",
        "colab": {
          "base_uri": "https://localhost:8080/",
          "height": 284
        }
      },
      "source": [
        "df.describe()"
      ],
      "execution_count": 0,
      "outputs": [
        {
          "output_type": "execute_result",
          "data": {
            "text/html": [
              "<div>\n",
              "<style scoped>\n",
              "    .dataframe tbody tr th:only-of-type {\n",
              "        vertical-align: middle;\n",
              "    }\n",
              "\n",
              "    .dataframe tbody tr th {\n",
              "        vertical-align: top;\n",
              "    }\n",
              "\n",
              "    .dataframe thead th {\n",
              "        text-align: right;\n",
              "    }\n",
              "</style>\n",
              "<table border=\"1\" class=\"dataframe\">\n",
              "  <thead>\n",
              "    <tr style=\"text-align: right;\">\n",
              "      <th></th>\n",
              "      <th>total_crime</th>\n",
              "      <th>violent_crime</th>\n",
              "      <th>police_funding</th>\n",
              "      <th>25plus_highschool</th>\n",
              "      <th>16to19_nonhighschool</th>\n",
              "      <th>18to24_college</th>\n",
              "      <th>25plus_college</th>\n",
              "    </tr>\n",
              "  </thead>\n",
              "  <tbody>\n",
              "    <tr>\n",
              "      <th>count</th>\n",
              "      <td>50.000000</td>\n",
              "      <td>50.000000</td>\n",
              "      <td>50.000000</td>\n",
              "      <td>50.000000</td>\n",
              "      <td>50.000000</td>\n",
              "      <td>50.000000</td>\n",
              "      <td>50.000000</td>\n",
              "    </tr>\n",
              "    <tr>\n",
              "      <th>mean</th>\n",
              "      <td>717.960000</td>\n",
              "      <td>616.180000</td>\n",
              "      <td>37.760000</td>\n",
              "      <td>58.800000</td>\n",
              "      <td>15.400000</td>\n",
              "      <td>29.900000</td>\n",
              "      <td>13.820000</td>\n",
              "    </tr>\n",
              "    <tr>\n",
              "      <th>std</th>\n",
              "      <td>293.938766</td>\n",
              "      <td>573.739175</td>\n",
              "      <td>13.820364</td>\n",
              "      <td>9.965246</td>\n",
              "      <td>6.023762</td>\n",
              "      <td>14.801062</td>\n",
              "      <td>5.157479</td>\n",
              "    </tr>\n",
              "    <tr>\n",
              "      <th>min</th>\n",
              "      <td>341.000000</td>\n",
              "      <td>29.000000</td>\n",
              "      <td>16.000000</td>\n",
              "      <td>42.000000</td>\n",
              "      <td>4.000000</td>\n",
              "      <td>7.000000</td>\n",
              "      <td>8.000000</td>\n",
              "    </tr>\n",
              "    <tr>\n",
              "      <th>25%</th>\n",
              "      <td>497.000000</td>\n",
              "      <td>230.750000</td>\n",
              "      <td>30.000000</td>\n",
              "      <td>49.000000</td>\n",
              "      <td>11.000000</td>\n",
              "      <td>21.250000</td>\n",
              "      <td>11.000000</td>\n",
              "    </tr>\n",
              "    <tr>\n",
              "      <th>50%</th>\n",
              "      <td>654.500000</td>\n",
              "      <td>454.000000</td>\n",
              "      <td>34.500000</td>\n",
              "      <td>59.000000</td>\n",
              "      <td>14.000000</td>\n",
              "      <td>25.000000</td>\n",
              "      <td>12.000000</td>\n",
              "    </tr>\n",
              "    <tr>\n",
              "      <th>75%</th>\n",
              "      <td>820.500000</td>\n",
              "      <td>822.500000</td>\n",
              "      <td>42.250000</td>\n",
              "      <td>67.000000</td>\n",
              "      <td>19.000000</td>\n",
              "      <td>34.250000</td>\n",
              "      <td>15.750000</td>\n",
              "    </tr>\n",
              "    <tr>\n",
              "      <th>max</th>\n",
              "      <td>1740.000000</td>\n",
              "      <td>3545.000000</td>\n",
              "      <td>86.000000</td>\n",
              "      <td>81.000000</td>\n",
              "      <td>34.000000</td>\n",
              "      <td>81.000000</td>\n",
              "      <td>36.000000</td>\n",
              "    </tr>\n",
              "  </tbody>\n",
              "</table>\n",
              "</div>"
            ],
            "text/plain": [
              "       total_crime  violent_crime  ...  18to24_college  25plus_college\n",
              "count    50.000000      50.000000  ...       50.000000       50.000000\n",
              "mean    717.960000     616.180000  ...       29.900000       13.820000\n",
              "std     293.938766     573.739175  ...       14.801062        5.157479\n",
              "min     341.000000      29.000000  ...        7.000000        8.000000\n",
              "25%     497.000000     230.750000  ...       21.250000       11.000000\n",
              "50%     654.500000     454.000000  ...       25.000000       12.000000\n",
              "75%     820.500000     822.500000  ...       34.250000       15.750000\n",
              "max    1740.000000    3545.000000  ...       81.000000       36.000000\n",
              "\n",
              "[8 rows x 7 columns]"
            ]
          },
          "metadata": {
            "tags": []
          },
          "execution_count": 44
        }
      ]
    },
    {
      "cell_type": "markdown",
      "metadata": {
        "id": "a6sgOfam9BBO",
        "colab_type": "text"
      },
      "source": [
        "## Setting Targets (defining your problem)\n",
        "\n",
        "A hypohesis can be that if people are well educated the crime should reduce. If through ML we can predict the crime and especially violent crime in city, we can help combat by allocating appropriate police funds and even promore better education."
      ]
    },
    {
      "cell_type": "code",
      "metadata": {
        "id": "1DRYQ24i57v6",
        "colab_type": "code",
        "colab": {}
      },
      "source": [
        "import seaborn as sns"
      ],
      "execution_count": 0,
      "outputs": []
    },
    {
      "cell_type": "markdown",
      "metadata": {
        "id": "VojsxzYY7y9I",
        "colab_type": "text"
      },
      "source": [
        "## Observations\n",
        "There are no missing or NAN values. The ranges suggest no outliers either so there is not much to clean here.\n",
        "\n",
        "Let us see the correlations.\n",
        "\n",
        "[see here](https://towardsdatascience.com/formatting-tips-for-correlation-heatmaps-in-seaborn-4478ef15d87f) for learning more about formatting heatmaps with seaborn."
      ]
    },
    {
      "cell_type": "code",
      "metadata": {
        "id": "qW4nqUyT67YT",
        "colab_type": "code",
        "outputId": "eecc32f2-83f1-453f-a7da-72469b0620ca",
        "colab": {
          "base_uri": "https://localhost:8080/",
          "height": 389
        }
      },
      "source": [
        "sns.heatmap(df.corr(), annot=True)"
      ],
      "execution_count": 0,
      "outputs": [
        {
          "output_type": "execute_result",
          "data": {
            "text/plain": [
              "<matplotlib.axes._subplots.AxesSubplot at 0x7f421cb1f9e8>"
            ]
          },
          "metadata": {
            "tags": []
          },
          "execution_count": 46
        },
        {
          "output_type": "display_data",
          "data": {
            "image/png": "[encoded data removed]",
            "text/plain": [
              "<Figure size 432x288 with 2 Axes>"
            ]
          },
          "metadata": {
            "tags": []
          }
        }
      ]
    },
    {
      "cell_type": "markdown",
      "metadata": {
        "id": "QYvgcy4I8NmX",
        "colab_type": "text"
      },
      "source": [
        "## Analysis\n",
        "\n",
        "The above correlations suggest that there is positive correlation between: \n",
        "1. **crime and police funding**: We can see it in two ways. Certainly more police means more crime is counter intruitive which the positive correlation is suggesting. So other way round is betetr, i.e. police funding is an outcome of crime obervation, i.e. more crime means more police funding.\n",
        "\n",
        "2. **crime vs 16to19_nonhighschool** shows some weak positive correlation and **crime vs 18to24_college** shows some weak negative correlation. This affirms our hypothesis to some degree. There is also a strong negative correlation between **16to19_nonhighschool and 18to24_college** so probably we can pick one of them as an indicator initially. Let us pick 16to19_highschool.\n",
        "\n",
        "3. **crime vs 25plus_highschool** also has negative correlation, but again **25plus_highschool and 16to19_nonhighschool** have moderate negative correlation."
      ]
    },
    {
      "cell_type": "markdown",
      "metadata": {
        "id": "kCy7qdXr_Y1T",
        "colab_type": "text"
      },
      "source": [
        "## Strategy\n",
        "\n",
        "* Let us first begin with single feature and label. X being 16to19_nonhighschool and Y beinf violent_crime"
      ]
    },
    {
      "cell_type": "code",
      "metadata": {
        "id": "jF5WIqU87B5V",
        "colab_type": "code",
        "outputId": "1e3c4c5c-1dd4-435e-93cf-f9f975c7d562",
        "colab": {
          "base_uri": "https://localhost:8080/",
          "height": 282
        }
      },
      "source": [
        "X = np.array(list(map(lambda x: [1, x], df['16to19_nonhighschool'].to_numpy())))\n",
        "y = df['violent_crime'].to_numpy()\n",
        "Theta, theta_history, cost_history = gradient_descent(X, y, alpha=0.005, max_iters=10000)\n",
        "plot_line(Theta, X, y)\n",
        "print(\"cost: \", cost(X, y, Theta))\n",
        "#plt.plot(theta_history[:,0], cost_history)\n",
        "#plt.plot(theta_history[:,1], cost_history)"
      ],
      "execution_count": 0,
      "outputs": [
        {
          "output_type": "stream",
          "text": [
            "147634.85927131385\n"
          ],
          "name": "stdout"
        },
        {
          "output_type": "display_data",
          "data": {
            "image/png": "[encoded data removed]",
            "text/plain": [
              "<Figure size 432x288 with 1 Axes>"
            ]
          },
          "metadata": {
            "tags": []
          }
        }
      ]
    },
    {
      "cell_type": "markdown",
      "metadata": {
        "id": "p9J9jgClEEmq",
        "colab_type": "text"
      },
      "source": [
        "### Adding more features\n",
        "\n",
        "Let us add one more feature say 18to24_college"
      ]
    },
    {
      "cell_type": "code",
      "metadata": {
        "id": "oDTcA9wvApIK",
        "colab_type": "code",
        "outputId": "0f7570a9-1cf5-4d62-a3f0-c16bee5b8003",
        "colab": {
          "base_uri": "https://localhost:8080/",
          "height": 50
        }
      },
      "source": [
        "X = add_bias(df[['16to19_nonhighschool', '18to24_college']].to_numpy())\n",
        "y = df['violent_crime'].to_numpy()\n",
        "Theta, theta_history, cost_history = gradient_descent(X, y, alpha=0.001, max_iters=20000)\n",
        "print(\"cost: \", cost(X, y, Theta))"
      ],
      "execution_count": 0,
      "outputs": [
        {
          "output_type": "stream",
          "text": [
            "stopped after 20000 iterations\n",
            "cost:  147823.10062763124\n"
          ],
          "name": "stdout"
        }
      ]
    },
    {
      "cell_type": "code",
      "metadata": {
        "id": "wX6rP5s6FQPb",
        "colab_type": "code",
        "outputId": "f394b693-5fba-4534-f387-39f61be644ec",
        "colab": {
          "base_uri": "https://localhost:8080/",
          "height": 282
        }
      },
      "source": [
        "plt.plot(theta_history[:,0], cost_history)"
      ],
      "execution_count": 0,
      "outputs": [
        {
          "output_type": "execute_result",
          "data": {
            "text/plain": [
              "[<matplotlib.lines.Line2D at 0x7f421c6571d0>]"
            ]
          },
          "metadata": {
            "tags": []
          },
          "execution_count": 88
        },
        {
          "output_type": "display_data",
          "data": {
            "image/png": "[encoded data removed]",
            "text/plain": [
              "<Figure size 432x288 with 1 Axes>"
            ]
          },
          "metadata": {
            "tags": []
          }
        }
      ]
    },
    {
      "cell_type": "code",
      "metadata": {
        "id": "cWmST8b4GB65",
        "colab_type": "code",
        "outputId": "a4a41064-496a-4bf1-9aac-3ae8ce370be0",
        "colab": {
          "base_uri": "https://localhost:8080/",
          "height": 282
        }
      },
      "source": [
        "plt.plot(theta_history[:,1], cost_history)"
      ],
      "execution_count": 0,
      "outputs": [
        {
          "output_type": "execute_result",
          "data": {
            "text/plain": [
              "[<matplotlib.lines.Line2D at 0x7f421c6e4550>]"
            ]
          },
          "metadata": {
            "tags": []
          },
          "execution_count": 89
        },
        {
          "output_type": "display_data",
          "data": {
            "image/png": "[encoded data removed]",
            "text/plain": [
              "<Figure size 432x288 with 1 Axes>"
            ]
          },
          "metadata": {
            "tags": []
          }
        }
      ]
    },
    {
      "cell_type": "code",
      "metadata": {
        "id": "rWzbNE-MGEw6",
        "colab_type": "code",
        "outputId": "ef9e2af5-2a7a-435f-b189-f7b484e28ea9",
        "colab": {
          "base_uri": "https://localhost:8080/",
          "height": 282
        }
      },
      "source": [
        "plt.plot(theta_history[:,2], cost_history)"
      ],
      "execution_count": 0,
      "outputs": [
        {
          "output_type": "execute_result",
          "data": {
            "text/plain": [
              "[<matplotlib.lines.Line2D at 0x7f421c5230f0>]"
            ]
          },
          "metadata": {
            "tags": []
          },
          "execution_count": 90
        },
        {
          "output_type": "display_data",
          "data": {
            "image/png": "[encoded data removed]",
            "text/plain": [
              "<Figure size 432x288 with 1 Axes>"
            ]
          },
          "metadata": {
            "tags": []
          }
        }
      ]
    },
    {
      "cell_type": "code",
      "metadata": {
        "id": "bXS6fbpcGXQN",
        "colab_type": "code",
        "outputId": "54a78f22-f4d8-4a93-e885-afb354f198a0",
        "colab": {
          "base_uri": "https://localhost:8080/",
          "height": 34
        }
      },
      "source": [
        "Theta"
      ],
      "execution_count": 0,
      "outputs": [
        {
          "output_type": "execute_result",
          "data": {
            "text/plain": [
              "array([121.45429373,  30.56191531,   0.6650282 ])"
            ]
          },
          "metadata": {
            "tags": []
          },
          "execution_count": 91
        }
      ]
    },
    {
      "cell_type": "markdown",
      "metadata": {
        "id": "DTUPCUvzGpsB",
        "colab_type": "text"
      },
      "source": [
        "## Try some more?\n",
        "This probably did not help. Can we think of more? What is your observation above. Do the theta values make sense? It seems the contribution of new feature we added is not so useful. And we guess that because the two features have a good ampunt of correlation.\n",
        "\n",
        "Also look at Theta_0. That is by far having a big contribution given that range of values we have for 16to19_nonhighschool as 4 to 34."
      ]
    }
  ]
}